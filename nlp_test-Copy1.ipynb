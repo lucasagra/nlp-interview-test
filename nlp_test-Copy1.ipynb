{
 "cells": [
  {
   "cell_type": "markdown",
   "metadata": {},
   "source": [
    "# Intent classifier assignment"
   ]
  },
  {
   "cell_type": "code",
   "execution_count": 13,
   "metadata": {},
   "outputs": [],
   "source": [
    "import os\n",
    "import numpy as np\n",
    "from nltk.corpus import stopwords\n",
    "from string import punctuation\n",
    "from nltk import tokenize\n",
    "from sklearn import preprocessing\n",
    "import matplotlib.pyplot as plt\n",
    "\n",
    "from keras.preprocessing.text import Tokenizer\n",
    "from keras.preprocessing.sequence import pad_sequences\n",
    "from keras.utils import to_categorical\n",
    "from keras.layers import Dense, Input, Flatten\n",
    "from keras.layers import Reshape, Dropout, Concatenate\n",
    "from keras.layers import Conv2D, MaxPool2D, Embedding\n",
    "from keras.models import Model\n",
    "\n",
    "# nltk.download('stopwords')\n",
    "# nltk.download('punkt')\n",
    "\n",
    "GLOVE_ADDR = 'glove/glove_s100.txt'\n",
    "EMBEDDING_DIM = 100 # Dimensions of Glove word vectors\n",
    "\n",
    "MAX_VOCABULARY = 20000 # Vocabulary size\n",
    "MAX_SEQUENCE_LENGTH = 25 # Maximum number of words in a sentence\n",
    "VALIDATION_RATIO = 0.25"
   ]
  },
  {
   "cell_type": "markdown",
   "metadata": {},
   "source": [
    "### Pre-processing data"
   ]
  },
  {
   "cell_type": "code",
   "execution_count": 14,
   "metadata": {},
   "outputs": [],
   "source": [
    "sentences = []\n",
    "labels = []\n",
    "\n",
    "with open('data.txt', encoding=\"utf-8\") as fp:\n",
    "    \n",
    "    # set of portuguese words that is meaningless for our purpose (o, a, os, as, para, com...)\n",
    "    stopwords = set(stopwords.words(\"portuguese\") + list(punctuation))\n",
    "    \n",
    "    intent = \"\"\n",
    "    \n",
    "    for line in fp:\n",
    "        sentence = tokenize.word_tokenize(line.lower(), language=\"portuguese\") # tokenize words\n",
    "        sentence_without_stopwords = [word for word in sentence if word not in stopwords] # remove stopwords\n",
    "\n",
    "        if len(sentence_without_stopwords) == 0:\n",
    "            continue\n",
    "        elif sentence[0] == \"intent\":\n",
    "            intent = sentence[2]\n",
    "        else:\n",
    "            sentences.append(sentence_without_stopwords)\n",
    "            labels.append(intent)\n",
    "\n",
    "# print(sentences)\n",
    "# print(labels)"
   ]
  },
  {
   "cell_type": "code",
   "execution_count": 15,
   "metadata": {},
   "outputs": [
    {
     "name": "stdout",
     "output_type": "stream",
     "text": [
      "['competencias' 'definicoes' 'digitalizacao' 'documentacao'\n",
      " 'processos_administrativos' 'usuario']\n"
     ]
    }
   ],
   "source": [
    "train_le = preprocessing.LabelEncoder()\n",
    "train_le.fit(labels)\n",
    "\n",
    "print(train_le.classes_)"
   ]
  },
  {
   "cell_type": "code",
   "execution_count": 16,
   "metadata": {
    "colab": {},
    "colab_type": "code",
    "id": "gn0sWRCSx89T"
   },
   "outputs": [
    {
     "name": "stdout",
     "output_type": "stream",
     "text": [
      "{'competencias': 0, 'definicoes': 1, 'digitalizacao': 2, 'documentacao': 3, 'processos_administrativos': 4, 'usuario': 5}\n"
     ]
    }
   ],
   "source": [
    "label_dict = dict(zip(list(train_le.classes_), train_le.transform(list(train_le.classes_))))\n",
    "print(label_dict)\n",
    "\n",
    "labels = train_le.transform(labels) # replace labels with their respective index\n",
    "# print(labels)"
   ]
  },
  {
   "cell_type": "markdown",
   "metadata": {},
   "source": [
    "### Tokenizing text\n"
   ]
  },
  {
   "cell_type": "code",
   "execution_count": 17,
   "metadata": {},
   "outputs": [
    {
     "name": "stdout",
     "output_type": "stream",
     "text": [
      "Found 206 unique tokens (different words minus stopwords).\n",
      "Data tensor shape: (308, 25)\n",
      "Label tensor shape: (308, 6)\n"
     ]
    }
   ],
   "source": [
    "tokenizer = Tokenizer(num_words=MAX_VOCABULARY)\n",
    "tokenizer.fit_on_texts(sentences)\n",
    "\n",
    "word_index = tokenizer.word_index\n",
    "print('Found %s unique tokens (different words minus stopwords).' % len(word_index))\n",
    "\n",
    "sequences = tokenizer.texts_to_sequences(sentences) # replace words with their respective index\n",
    "\n",
    "data = pad_sequences(sequences, maxlen=MAX_SEQUENCE_LENGTH) # adjust every sentence to have the same shape\n",
    "\n",
    "labels = to_categorical(np.asarray(labels)) # one-hot-encode the labels\n",
    "\n",
    "print('Data tensor shape:', data.shape)\n",
    "print('Label tensor shape:', labels.shape)"
   ]
  },
  {
   "cell_type": "markdown",
   "metadata": {},
   "source": [
    "## Split the data into a training set and a validation set"
   ]
  },
  {
   "cell_type": "code",
   "execution_count": 18,
   "metadata": {},
   "outputs": [
    {
     "name": "stdout",
     "output_type": "stream",
     "text": [
      "[[  0   0   0 ...  22  25  60]\n",
      " [  0   0   0 ...  12   2  78]\n",
      " [  0   0   0 ... 128  26 129]\n",
      " ...\n",
      " [  0   0   0 ...   0  31   1]\n",
      " [  0   0   0 ...  11  70  29]\n",
      " [  0   0   0 ...   0  69  37]]\n",
      "[[1. 0. 0. 0. 0. 0.]\n",
      " [0. 0. 0. 0. 1. 0.]\n",
      " [1. 0. 0. 0. 0. 0.]\n",
      " ...\n",
      " [0. 0. 0. 0. 1. 0.]\n",
      " [0. 0. 0. 0. 0. 1.]\n",
      " [0. 0. 0. 0. 0. 1.]]\n"
     ]
    }
   ],
   "source": [
    "# shuffle data\n",
    "indices = np.arange(data.shape[0])\n",
    "np.random.shuffle(indices)\n",
    "\n",
    "data = data[indices]\n",
    "labels = labels[indices]\n",
    "\n",
    "# apply ratio and split data in training/validation\n",
    "num_validation_samples = int(VALIDATION_RATIO * data.shape[0])\n",
    "\n",
    "x_train = data[:-num_validation_samples]\n",
    "y_train = labels[:-num_validation_samples]\n",
    "x_val = data[-num_validation_samples:]\n",
    "y_val = labels[-num_validation_samples:]\n",
    "\n",
    "print(x_train)\n",
    "print(y_train)"
   ]
  },
  {
   "cell_type": "markdown",
   "metadata": {},
   "source": [
    "## Handling GLOVE embedding words\n",
    "\n",
    "- Download the GLOVE 100 dimensions from http://nilc.icmc.usp.br/nilc/index.php/repositorio-de-word-embeddings-do-nilc [(download)](http://143.107.183.175:22980/download.php?file=embeddings/glove/glove_s100.zip)\n",
    "- Adjust GLOVE_ADDR variable to its path"
   ]
  },
  {
   "cell_type": "code",
   "execution_count": 8,
   "metadata": {},
   "outputs": [
    {
     "name": "stdout",
     "output_type": "stream",
     "text": [
      "Indexing word vectors...\n",
      "Found 929594 pre-trained word vectors.\n"
     ]
    }
   ],
   "source": [
    "pretrained_embeddings = {}\n",
    "\n",
    "print('Indexing word vectors...')\n",
    "with open(GLOVE_ADDR, encoding='utf-8') as f:\n",
    "    for line in f:\n",
    "        try:\n",
    "            values = line.split()\n",
    "            word = values[0]\n",
    "            coefs = np.asarray(values[1:], dtype='float32')\n",
    "            pretrained_embeddings[word] = coefs\n",
    "        except ValueError:\n",
    "            # print(ValueError)\n",
    "            continue\n",
    "\n",
    "print('Found %s pre-trained word vectors.' % len(pretrained_embeddings))"
   ]
  },
  {
   "cell_type": "markdown",
   "metadata": {},
   "source": [
    "### Creating embedding_matrix\n",
    "Matrix containing weight vectors for every token\n",
    "\n",
    "The values will be initialized with the GLOVE values. Tokens not found in GLOVE will be initialized with zero"
   ]
  },
  {
   "cell_type": "code",
   "execution_count": 9,
   "metadata": {},
   "outputs": [
    {
     "name": "stdout",
     "output_type": "stream",
     "text": [
      "Preparing embedding matrix...\n",
      "Embedding matrix shape: (207, 100)\n"
     ]
    }
   ],
   "source": [
    "print('Preparing embedding matrix...')\n",
    "\n",
    "num_words = min(MAX_VOCABULARY, len(word_index))\n",
    "embedding_matrix = np.zeros((len(word_index) + 1, EMBEDDING_DIM))\n",
    "\n",
    "for word, i in word_index.items():\n",
    "    embedding_vector = pretrained_embeddings.get(word)\n",
    "\n",
    "    # words not found in pretrained_embeddings will be all-zeros\n",
    "    if embedding_vector is not None:\n",
    "        embedding_matrix[i] = embedding_vector\n",
    "\n",
    "\n",
    "print('Embedding matrix shape:', embedding_matrix.shape)"
   ]
  },
  {
   "cell_type": "markdown",
   "metadata": {},
   "source": [
    "## Defining CNN model\n"
   ]
  },
  {
   "cell_type": "code",
   "execution_count": 19,
   "metadata": {},
   "outputs": [
    {
     "name": "stdout",
     "output_type": "stream",
     "text": [
      "Creating Model...\n",
      "Model: \"model_2\"\n",
      "__________________________________________________________________________________________________\n",
      "Layer (type)                    Output Shape         Param #     Connected to                     \n",
      "==================================================================================================\n",
      "input_2 (InputLayer)            (None, 25)           0                                            \n",
      "__________________________________________________________________________________________________\n",
      "embedding_2 (Embedding)         (None, 25, 100)      20700       input_2[0][0]                    \n",
      "__________________________________________________________________________________________________\n",
      "reshape_2 (Reshape)             (None, 25, 100, 1)   0           embedding_2[0][0]                \n",
      "__________________________________________________________________________________________________\n",
      "conv2d_4 (Conv2D)               (None, 24, 1, 512)   102912      reshape_2[0][0]                  \n",
      "__________________________________________________________________________________________________\n",
      "conv2d_5 (Conv2D)               (None, 23, 1, 512)   154112      reshape_2[0][0]                  \n",
      "__________________________________________________________________________________________________\n",
      "conv2d_6 (Conv2D)               (None, 21, 1, 512)   256512      reshape_2[0][0]                  \n",
      "__________________________________________________________________________________________________\n",
      "max_pooling2d_4 (MaxPooling2D)  (None, 1, 1, 512)    0           conv2d_4[0][0]                   \n",
      "__________________________________________________________________________________________________\n",
      "max_pooling2d_5 (MaxPooling2D)  (None, 1, 1, 512)    0           conv2d_5[0][0]                   \n",
      "__________________________________________________________________________________________________\n",
      "max_pooling2d_6 (MaxPooling2D)  (None, 1, 1, 512)    0           conv2d_6[0][0]                   \n",
      "__________________________________________________________________________________________________\n",
      "concatenate_2 (Concatenate)     (None, 3, 1, 512)    0           max_pooling2d_4[0][0]            \n",
      "                                                                 max_pooling2d_5[0][0]            \n",
      "                                                                 max_pooling2d_6[0][0]            \n",
      "__________________________________________________________________________________________________\n",
      "flatten_2 (Flatten)             (None, 1536)         0           concatenate_2[0][0]              \n",
      "__________________________________________________________________________________________________\n",
      "dropout_2 (Dropout)             (None, 1536)         0           flatten_2[0][0]                  \n",
      "__________________________________________________________________________________________________\n",
      "dense_2 (Dense)                 (None, 6)            9222        dropout_2[0][0]                  \n",
      "==================================================================================================\n",
      "Total params: 543,458\n",
      "Trainable params: 522,758\n",
      "Non-trainable params: 20,700\n",
      "__________________________________________________________________________________________________\n"
     ]
    }
   ],
   "source": [
    "filter_sizes = [2,3,5]\n",
    "num_filters = 512\n",
    "drop = 0.4\n",
    "\n",
    "print(\"Creating Model...\")\n",
    "inputs = Input(shape=(MAX_SEQUENCE_LENGTH,), dtype='int32')\n",
    "embedding = Embedding(input_dim=len(word_index) + 1, output_dim=EMBEDDING_DIM, weights=[embedding_matrix],\n",
    "                      input_length=MAX_SEQUENCE_LENGTH, trainable=False)(inputs)\n",
    "reshape = Reshape((MAX_SEQUENCE_LENGTH, EMBEDDING_DIM, 1))(embedding)\n",
    "\n",
    "conv_0 = Conv2D(num_filters, kernel_size=(filter_sizes[0], EMBEDDING_DIM), padding='valid', kernel_initializer='normal', activation='relu')(reshape)\n",
    "conv_1 = Conv2D(num_filters, kernel_size=(filter_sizes[1], EMBEDDING_DIM), padding='valid', kernel_initializer='normal', activation='relu')(reshape)\n",
    "conv_2 = Conv2D(num_filters, kernel_size=(filter_sizes[2], EMBEDDING_DIM), padding='valid', kernel_initializer='normal', activation='relu')(reshape)\n",
    "\n",
    "maxpool_0 = MaxPool2D(pool_size=(MAX_SEQUENCE_LENGTH - filter_sizes[0] + 1, 1), strides=(1,1), padding='valid')(conv_0)\n",
    "maxpool_1 = MaxPool2D(pool_size=(MAX_SEQUENCE_LENGTH - filter_sizes[1] + 1, 1), strides=(1,1), padding='valid')(conv_1)\n",
    "maxpool_2 = MaxPool2D(pool_size=(MAX_SEQUENCE_LENGTH - filter_sizes[2] + 1, 1), strides=(1,1), padding='valid')(conv_2)\n",
    "\n",
    "concatenated_tensor = Concatenate(axis=1)([maxpool_0, maxpool_1, maxpool_2])\n",
    "flatten = Flatten()(concatenated_tensor)\n",
    "dropout = Dropout(drop)(flatten)\n",
    "preds = Dense(len(label_dict), activation='softmax')(dropout)\n",
    "\n",
    "# this creates a model that includes inputs and outputs\n",
    "model = Model(inputs=inputs, outputs=preds)\n",
    "\n",
    "model.compile(loss='categorical_crossentropy',\n",
    "              optimizer='adam',\n",
    "              metrics=['acc'])\n",
    "\n",
    "model.summary()\n"
   ]
  },
  {
   "cell_type": "markdown",
   "metadata": {},
   "source": [
    "## Training model"
   ]
  },
  {
   "cell_type": "code",
   "execution_count": 20,
   "metadata": {},
   "outputs": [
    {
     "name": "stdout",
     "output_type": "stream",
     "text": [
      "Train on 231 samples, validate on 77 samples\n",
      "Epoch 1/15\n",
      "231/231 [==============================] - 0s 768us/step - loss: 1.7176 - acc: 0.3117 - val_loss: 1.2341 - val_acc: 0.5714\n",
      "Epoch 2/15\n",
      "231/231 [==============================] - 0s 302us/step - loss: 0.8949 - acc: 0.7403 - val_loss: 0.7872 - val_acc: 0.7662\n",
      "Epoch 3/15\n",
      "231/231 [==============================] - 0s 294us/step - loss: 0.5844 - acc: 0.8485 - val_loss: 0.6250 - val_acc: 0.8182\n",
      "Epoch 4/15\n",
      "231/231 [==============================] - 0s 294us/step - loss: 0.4402 - acc: 0.9091 - val_loss: 0.5418 - val_acc: 0.8442\n",
      "Epoch 5/15\n",
      "231/231 [==============================] - 0s 298us/step - loss: 0.3417 - acc: 0.9481 - val_loss: 0.4941 - val_acc: 0.8312\n",
      "Epoch 6/15\n",
      "231/231 [==============================] - 0s 294us/step - loss: 0.2885 - acc: 0.9437 - val_loss: 0.4664 - val_acc: 0.8442\n",
      "Epoch 7/15\n",
      "231/231 [==============================] - 0s 302us/step - loss: 0.2394 - acc: 0.9567 - val_loss: 0.4361 - val_acc: 0.8701\n",
      "Epoch 8/15\n",
      "231/231 [==============================] - 0s 315us/step - loss: 0.2029 - acc: 0.9697 - val_loss: 0.4052 - val_acc: 0.8571\n",
      "Epoch 9/15\n",
      "231/231 [==============================] - 0s 311us/step - loss: 0.1879 - acc: 0.9697 - val_loss: 0.3825 - val_acc: 0.8571\n",
      "Epoch 10/15\n",
      "231/231 [==============================] - 0s 302us/step - loss: 0.1666 - acc: 0.9740 - val_loss: 0.3783 - val_acc: 0.8571\n",
      "Epoch 11/15\n",
      "231/231 [==============================] - 0s 302us/step - loss: 0.1434 - acc: 0.9740 - val_loss: 0.3677 - val_acc: 0.8571\n",
      "Epoch 12/15\n",
      "231/231 [==============================] - 0s 311us/step - loss: 0.1251 - acc: 0.9784 - val_loss: 0.3479 - val_acc: 0.8571\n",
      "Epoch 13/15\n",
      "231/231 [==============================] - 0s 307us/step - loss: 0.1189 - acc: 0.9784 - val_loss: 0.3405 - val_acc: 0.8571\n",
      "Epoch 14/15\n",
      "231/231 [==============================] - 0s 315us/step - loss: 0.1164 - acc: 0.9740 - val_loss: 0.3398 - val_acc: 0.8701\n",
      "Epoch 15/15\n",
      "231/231 [==============================] - 0s 311us/step - loss: 0.1027 - acc: 0.9784 - val_loss: 0.3454 - val_acc: 0.8701\n"
     ]
    },
    {
     "data": {
      "image/png": "[encoded data removed]",
      "text/plain": [
       "<Figure size 432x288 with 1 Axes>"
      ]
     },
     "metadata": {
      "needs_background": "light"
     },
     "output_type": "display_data"
    },
    {
     "data": {
      "image/png": "[encoded data removed]",
      "text/plain": [
       "<Figure size 432x288 with 1 Axes>"
      ]
     },
     "metadata": {
      "needs_background": "light"
     },
     "output_type": "display_data"
    }
   ],
   "source": [
    "history = model.fit(x_train, y_train,\n",
    "          batch_size=64,\n",
    "          epochs=15,\n",
    "          validation_data=(x_val, y_val))\n",
    "\n",
    "# summarize history for accuracy\n",
    "plt.plot(history.history['acc'])\n",
    "plt.plot(history.history['val_acc'])\n",
    "plt.title('model accuracy')\n",
    "plt.ylabel('accuracy')\n",
    "plt.xlabel('epoch')\n",
    "plt.legend(['train', 'validation'], loc='lower right')\n",
    "plt.show()\n",
    "\n",
    "# summarize history for loss\n",
    "plt.plot(history.history['loss'])\n",
    "plt.plot(history.history['val_loss'])\n",
    "plt.title('model loss')\n",
    "plt.ylabel('loss')\n",
    "plt.xlabel('epoch')\n",
    "plt.legend(['train', 'validation'], loc='upper right')\n",
    "plt.show()"
   ]
  },
  {
   "cell_type": "markdown",
   "metadata": {},
   "source": [
    "## Testing predictions manually"
   ]
  },
  {
   "cell_type": "code",
   "execution_count": 21,
   "metadata": {
    "scrolled": true
   },
   "outputs": [
    {
     "name": "stdout",
     "output_type": "stream",
     "text": [
      "Type the input sentence\n",
      "eu gostaria de saber sobre um documento\n",
      "\n",
      "input: eu gostaria de saber sobre um documento\n",
      "keywords: ['gostaria', 'saber', 'sobre', 'documento']\n",
      "intent: documentacao\n",
      "confidence: 94.88%\n"
     ]
    }
   ],
   "source": [
    "print(\"Type the input sentence\")\n",
    "text_input = input().lower()\n",
    "\n",
    "keywords = tokenize.word_tokenize(text_input, language=\"portuguese\")\n",
    "keywords = [word for word in keywords if word not in stopwords]\n",
    "\n",
    "## Processing text to be compatible with model input\n",
    "test_sequences = tokenizer.texts_to_sequences([keywords])\n",
    "test_input = pad_sequences(test_sequences, maxlen=MAX_SEQUENCE_LENGTH)\n",
    "\n",
    "## Get prediction\n",
    "test_prediction = model.predict(test_input)\n",
    "index_ = test_prediction.argmax(axis=-1)[0] # get index of biggest value\n",
    "\n",
    "print()\n",
    "print(\"input:\", text_input)\n",
    "print(\"keywords:\", keywords)\n",
    "print(\"intent:\", list(label_dict.keys())[index_])\n",
    "print(\"confidence: %.2f%%\" % (float(test_prediction[0][index_])*100))"
   ]
  },
  {
   "cell_type": "markdown",
   "metadata": {},
   "source": [
    "# Notes\n",
    "\n",
    "***\n",
    "For this assignment, I supposed that I shouldn't make changes (corrections) in the raw dataset manually, since it wouldn't be productive in a real situation with a larger dataset.\n",
    "\n",
    "## Pre-processing data\n",
    "---\n",
    "\n",
    "The stopwords (o, a, os, as, para, com, ...) from the dataset and the user input were removed.\n",
    "\n",
    "The dataset provided has many incorrect words. This way, some of them does not match with the words from the pre-trained weights (GLOVE) used in the model.\n",
    "\n",
    "Cleaning and correcting the words in the dataset (and the user input), should improve the accuracy.\n",
    "\n",
    "For this, I tried to use RSLPStemmer (nltk) module in portuguese to stem words (remove sufixes).\n",
    "\n",
    "> `e.g: the boy's cars are different colors -> the boy car be differ color`\n",
    "\n",
    "However, the portuguese version of nltk is not working very well:\n",
    "\n",
    "> `e.g: paisagem -> pais`\n",
    "\n",
    "\n",
    "\n",
    "## Model\n",
    "---\n",
    "The model I have chosen(CNN) uses the bag-of-words paradigm, it means that the semantic of the text is not taken into account. The model generates its predictions based in the group of words put together. It is described in this article: https://arxiv.org/abs/1408.5882\n",
    "\n",
    "I tested the model with both Word2Vec and GLOVE embedding vectors (pre-trained vectors for common words), which can be found in portuguese here:\n",
    "\n",
    "http://nilc.icmc.usp.br/nilc/index.php/repositorio-de-word-embeddings-do-nilc\n",
    "\n",
    "Word2Vec reached a maximum of 81% val_acc while GLOVE reached 90%.\n",
    "\n",
    "\n",
    "The model was previously implemented here:https://github.com/ajinkyaT/CNN_Intent_Classification\n",
    "\n",
    "The author got 99% accuracy using a dataset of 10000 sentences and 6 intentions, while mine has only 300 sentences. This should explain most part the divergence between my result (90%) and his (99%). He used an official dataset which should be clean and free of incorrect words, also the GLOVE embedding is probably better trained in english.\n",
    "\n",
    "## Training\n",
    "---\n",
    "I tested different values for the hyperparameters (batch size, number of filters, drop rate, ...) based on this [paper](https://arxiv.org/abs/1510.03820), and this was the best result.\n",
    "\n",
    "I used a small number of epochs to avoid overfitting, since it's using a small dataset."
   ]
  }
 ],
 "metadata": {
  "colab": {
   "collapsed_sections": [],
   "name": "nlp-test.ipynb",
   "provenance": []
  },
  "kernelspec": {
   "display_name": "Python 3",
   "language": "python",
   "name": "python3"
  },
  "language_info": {
   "codemirror_mode": {
    "name": "ipython",
    "version": 3
   },
   "file_extension": ".py",
   "mimetype": "text/x-python",
   "name": "python",
   "nbconvert_exporter": "python",
   "pygments_lexer": "ipython3",
   "version": "3.6.2"
  }
 },
 "nbformat": 4,
 "nbformat_minor": 1
}
