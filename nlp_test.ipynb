{
 "cells": [
  {
   "cell_type": "markdown",
   "metadata": {},
   "source": [
    "# Intent classifier assignment"
   ]
  },
  {
   "cell_type": "code",
   "execution_count": 1,
   "metadata": {},
   "outputs": [
    {
     "name": "stderr",
     "output_type": "stream",
     "text": [
      "Using TensorFlow backend.\n"
     ]
    }
   ],
   "source": [
    "import os\n",
    "import numpy as np\n",
    "from nltk.corpus import stopwords\n",
    "from string import punctuation\n",
    "from nltk import tokenize\n",
    "from sklearn import preprocessing\n",
    "import matplotlib.pyplot as plt\n",
    "\n",
    "from keras.preprocessing.text import Tokenizer\n",
    "from keras.preprocessing.sequence import pad_sequences\n",
    "from keras.utils import to_categorical\n",
    "from keras.layers import Dense, Input, Flatten\n",
    "from keras.layers import Reshape, Dropout, Concatenate\n",
    "from keras.layers import Conv2D, MaxPool2D, Embedding\n",
    "from keras.models import Model\n",
    "\n",
    "# nltk.download('stopwords')\n",
    "# nltk.download('punkt')\n",
    "\n",
    "GLOVE_ADDR = 'glove/glove_s100.txt'\n",
    "EMBEDDING_DIM = 100 # Dimensions of Glove word vectors\n",
    "\n",
    "MAX_VOCABULARY = 20000 # Vocabulary size\n",
    "MAX_SEQUENCE_LENGTH = 25 # Maximum number of words in a sentence\n",
    "VALIDATION_SPLIT = 0.25"
   ]
  },
  {
   "cell_type": "markdown",
   "metadata": {},
   "source": [
    "### Pre-process data"
   ]
  },
  {
   "cell_type": "code",
   "execution_count": 2,
   "metadata": {},
   "outputs": [],
   "source": [
    "sentences = []\n",
    "labels = []\n",
    "\n",
    "with open('data.txt', encoding=\"utf-8\") as fp:\n",
    "    \n",
    "    # set of portuguese words that is meaningless for our purpose (o, a, os, as, para, com...)\n",
    "    stopwords = set(stopwords.words(\"portuguese\") + list(punctuation))\n",
    "    \n",
    "    intent = \"\"\n",
    "    \n",
    "    for line in fp:\n",
    "        sentence = tokenize.word_tokenize(line.lower(), language=\"portuguese\") # tokenize words\n",
    "        sentence_without_stopwords = [word for word in sentence if word not in stopwords] # remove stopwords\n",
    "\n",
    "        if len(sentence_without_stopwords) == 0:\n",
    "            continue\n",
    "        elif sentence[0] == \"intent\":\n",
    "            intent = sentence[2]\n",
    "        else:\n",
    "            sentences.append(sentence_without_stopwords)\n",
    "            labels.append(intent)\n",
    "\n",
    "# print(sentences)\n",
    "# print(labels)"
   ]
  },
  {
   "cell_type": "code",
   "execution_count": 3,
   "metadata": {},
   "outputs": [
    {
     "name": "stdout",
     "output_type": "stream",
     "text": [
      "['competencias' 'definicoes' 'digitalizacao' 'documentacao'\n",
      " 'processos_administrativos' 'usuario']\n"
     ]
    }
   ],
   "source": [
    "train_le = preprocessing.LabelEncoder()\n",
    "train_le.fit(labels)\n",
    "\n",
    "print(train_le.classes_)"
   ]
  },
  {
   "cell_type": "code",
   "execution_count": 4,
   "metadata": {
    "colab": {},
    "colab_type": "code",
    "id": "gn0sWRCSx89T"
   },
   "outputs": [
    {
     "name": "stdout",
     "output_type": "stream",
     "text": [
      "{'competencias': 0, 'definicoes': 1, 'digitalizacao': 2, 'documentacao': 3, 'processos_administrativos': 4, 'usuario': 5}\n"
     ]
    }
   ],
   "source": [
    "label_dict = dict(zip(list(train_le.classes_), train_le.transform(list(train_le.classes_))))\n",
    "print(label_dict)\n",
    "\n",
    "labels = train_le.transform(labels) # replace labels with their respective index\n",
    "# print(labels)"
   ]
  },
  {
   "cell_type": "markdown",
   "metadata": {},
   "source": [
    "### Tokenizing text\n"
   ]
  },
  {
   "cell_type": "code",
   "execution_count": 5,
   "metadata": {},
   "outputs": [
    {
     "name": "stdout",
     "output_type": "stream",
     "text": [
      "Found 206 unique tokens (different words minus stopwords).\n",
      "Data tensor shape: (308, 25)\n",
      "Label tensor shape: (308, 6)\n"
     ]
    }
   ],
   "source": [
    "tokenizer = Tokenizer(num_words=MAX_VOCABULARY)\n",
    "tokenizer.fit_on_texts(sentences)\n",
    "\n",
    "word_index = tokenizer.word_index\n",
    "# print(word_index)\n",
    "print('Found %s unique tokens (different words minus stopwords).' % len(word_index))\n",
    "\n",
    "sequences = tokenizer.texts_to_sequences(sentences) # replace words with their respective index\n",
    "# print(sequences)\n",
    "\n",
    "data = pad_sequences(sequences, maxlen=MAX_SEQUENCE_LENGTH) # adjust every sentence to have the same shape\n",
    "# print(data)\n",
    "\n",
    "labels = to_categorical(np.asarray(labels)) # one-hot-encode the labels\n",
    "# print(labels)\n",
    "\n",
    "print('Data tensor shape:', data.shape)\n",
    "print('Label tensor shape:', labels.shape)"
   ]
  },
  {
   "cell_type": "markdown",
   "metadata": {},
   "source": [
    "## Split the data into a training set and a validation set"
   ]
  },
  {
   "cell_type": "code",
   "execution_count": 6,
   "metadata": {},
   "outputs": [
    {
     "name": "stdout",
     "output_type": "stream",
     "text": [
      "[[ 0  0  0 ...  0 56 44]\n",
      " [ 0  0  0 ...  0 30  2]\n",
      " [ 0  0  0 ...  3  5  4]\n",
      " ...\n",
      " [ 0  0  0 ... 41 23  4]\n",
      " [ 0  0  0 ...  3  5  4]\n",
      " [ 0  0  0 ... 11 61 64]]\n",
      "[[0. 0. 0. 1. 0. 0.]\n",
      " [0. 0. 0. 0. 1. 0.]\n",
      " [0. 0. 0. 0. 1. 0.]\n",
      " ...\n",
      " [0. 1. 0. 0. 0. 0.]\n",
      " [0. 0. 0. 0. 1. 0.]\n",
      " [1. 0. 0. 0. 0. 0.]]\n"
     ]
    }
   ],
   "source": [
    "# shuffle data\n",
    "indices = np.arange(data.shape[0])\n",
    "np.random.shuffle(indices)\n",
    "\n",
    "data = data[indices]\n",
    "labels = labels[indices]\n",
    "\n",
    "# apply ratio between training/validation\n",
    "num_validation_samples = int(VALIDATION_SPLIT * data.shape[0])\n",
    "\n",
    "x_train = data[:-num_validation_samples]\n",
    "y_train = labels[:-num_validation_samples]\n",
    "x_val = data[-num_validation_samples:]\n",
    "y_val = labels[-num_validation_samples:]\n",
    "\n",
    "print(x_train)\n",
    "print(y_train)"
   ]
  },
  {
   "cell_type": "markdown",
   "metadata": {},
   "source": [
    "## Handling GLOVE embedding words\n",
    "\n",
    "- Download the GLOVE 100 dimensions from http://nilc.icmc.usp.br/nilc/index.php/repositorio-de-word-embeddings-do-nilc [(download)](http://143.107.183.175:22980/download.php?file=embeddings/glove/glove_s100.zip)\n",
    "- Adjust GLOVE_ADDR variable to its path"
   ]
  },
  {
   "cell_type": "code",
   "execution_count": 7,
   "metadata": {},
   "outputs": [
    {
     "name": "stdout",
     "output_type": "stream",
     "text": [
      "Indexing word vectors...\n",
      "Found 929594 word vectors.\n"
     ]
    }
   ],
   "source": [
    "print('Indexing word vectors...')\n",
    "\n",
    "embeddings_index = {}\n",
    "with open(GLOVE_ADDR, encoding='utf-8') as f:\n",
    "    for line in f:\n",
    "        try:\n",
    "            values = line.split()\n",
    "            word = values[0]\n",
    "            coefs = np.asarray(values[1:], dtype='float32')\n",
    "            embeddings_index[word] = coefs\n",
    "        except ValueError:\n",
    "            # print(ValueError)\n",
    "            continue\n",
    "\n",
    "print('Found %s word vectors.' % len(embeddings_index))"
   ]
  },
  {
   "cell_type": "markdown",
   "metadata": {},
   "source": [
    "### embedding_matrix\n",
    "Matrix of all the tokens (unique words) with their pre-treined weights from GLOVE "
   ]
  },
  {
   "cell_type": "code",
   "execution_count": 8,
   "metadata": {},
   "outputs": [
    {
     "name": "stdout",
     "output_type": "stream",
     "text": [
      "Preparing embedding matrix...\n",
      "Embedding matrix shape: (207, 100)\n"
     ]
    }
   ],
   "source": [
    "print('Preparing embedding matrix...')\n",
    "\n",
    "num_words = min(MAX_VOCABULARY, len(word_index))\n",
    "embedding_matrix = np.zeros((len(word_index) + 1, EMBEDDING_DIM))\n",
    "\n",
    "for word, i in word_index.items():\n",
    "    embedding_vector = embeddings_index.get(word)\n",
    "    # print(word)\n",
    "    # print(embedding_vector)\n",
    "    # words not found in embedding index will be all-zeros\n",
    "    if embedding_vector is not None:\n",
    "        embedding_matrix[i] = embedding_vector\n",
    "\n",
    "\n",
    "print('Embedding matrix shape:', embedding_matrix.shape)"
   ]
  },
  {
   "cell_type": "markdown",
   "metadata": {},
   "source": [
    "## Defining CNN model\n"
   ]
  },
  {
   "cell_type": "code",
   "execution_count": 9,
   "metadata": {},
   "outputs": [
    {
     "name": "stdout",
     "output_type": "stream",
     "text": [
      "Creating Model...\n",
      "Model: \"model_1\"\n",
      "__________________________________________________________________________________________________\n",
      "Layer (type)                    Output Shape         Param #     Connected to                     \n",
      "==================================================================================================\n",
      "input_1 (InputLayer)            (None, 25)           0                                            \n",
      "__________________________________________________________________________________________________\n",
      "embedding_1 (Embedding)         (None, 25, 100)      20700       input_1[0][0]                    \n",
      "__________________________________________________________________________________________________\n",
      "reshape_1 (Reshape)             (None, 25, 100, 1)   0           embedding_1[0][0]                \n",
      "__________________________________________________________________________________________________\n",
      "conv2d_1 (Conv2D)               (None, 24, 1, 512)   102912      reshape_1[0][0]                  \n",
      "__________________________________________________________________________________________________\n",
      "conv2d_2 (Conv2D)               (None, 23, 1, 512)   154112      reshape_1[0][0]                  \n",
      "__________________________________________________________________________________________________\n",
      "conv2d_3 (Conv2D)               (None, 21, 1, 512)   256512      reshape_1[0][0]                  \n",
      "__________________________________________________________________________________________________\n",
      "max_pooling2d_1 (MaxPooling2D)  (None, 1, 1, 512)    0           conv2d_1[0][0]                   \n",
      "__________________________________________________________________________________________________\n",
      "max_pooling2d_2 (MaxPooling2D)  (None, 1, 1, 512)    0           conv2d_2[0][0]                   \n",
      "__________________________________________________________________________________________________\n",
      "max_pooling2d_3 (MaxPooling2D)  (None, 1, 1, 512)    0           conv2d_3[0][0]                   \n",
      "__________________________________________________________________________________________________\n",
      "concatenate_1 (Concatenate)     (None, 3, 1, 512)    0           max_pooling2d_1[0][0]            \n",
      "                                                                 max_pooling2d_2[0][0]            \n",
      "                                                                 max_pooling2d_3[0][0]            \n",
      "__________________________________________________________________________________________________\n",
      "flatten_1 (Flatten)             (None, 1536)         0           concatenate_1[0][0]              \n",
      "__________________________________________________________________________________________________\n",
      "dropout_1 (Dropout)             (None, 1536)         0           flatten_1[0][0]                  \n",
      "__________________________________________________________________________________________________\n",
      "dense_1 (Dense)                 (None, 6)            9222        dropout_1[0][0]                  \n",
      "==================================================================================================\n",
      "Total params: 543,458\n",
      "Trainable params: 522,758\n",
      "Non-trainable params: 20,700\n",
      "__________________________________________________________________________________________________\n"
     ]
    }
   ],
   "source": [
    "filter_sizes = [2,3,5]\n",
    "num_filters = 512\n",
    "drop = 0.4\n",
    "\n",
    "print(\"Creating Model...\")\n",
    "inputs = Input(shape=(MAX_SEQUENCE_LENGTH,), dtype='int32')\n",
    "embedding = Embedding(input_dim=len(word_index) + 1, output_dim=EMBEDDING_DIM, weights=[embedding_matrix],\n",
    "                      input_length=MAX_SEQUENCE_LENGTH, trainable=False)(inputs)\n",
    "reshape = Reshape((MAX_SEQUENCE_LENGTH, EMBEDDING_DIM, 1))(embedding)\n",
    "\n",
    "conv_0 = Conv2D(num_filters, kernel_size=(filter_sizes[0], EMBEDDING_DIM), padding='valid', kernel_initializer='normal', activation='relu')(reshape)\n",
    "conv_1 = Conv2D(num_filters, kernel_size=(filter_sizes[1], EMBEDDING_DIM), padding='valid', kernel_initializer='normal', activation='relu')(reshape)\n",
    "conv_2 = Conv2D(num_filters, kernel_size=(filter_sizes[2], EMBEDDING_DIM), padding='valid', kernel_initializer='normal', activation='relu')(reshape)\n",
    "\n",
    "maxpool_0 = MaxPool2D(pool_size=(MAX_SEQUENCE_LENGTH - filter_sizes[0] + 1, 1), strides=(1,1), padding='valid')(conv_0)\n",
    "maxpool_1 = MaxPool2D(pool_size=(MAX_SEQUENCE_LENGTH - filter_sizes[1] + 1, 1), strides=(1,1), padding='valid')(conv_1)\n",
    "maxpool_2 = MaxPool2D(pool_size=(MAX_SEQUENCE_LENGTH - filter_sizes[2] + 1, 1), strides=(1,1), padding='valid')(conv_2)\n",
    "\n",
    "concatenated_tensor = Concatenate(axis=1)([maxpool_0, maxpool_1, maxpool_2])\n",
    "flatten = Flatten()(concatenated_tensor)\n",
    "dropout = Dropout(drop)(flatten)\n",
    "preds = Dense(len(label_dict), activation='softmax')(dropout)\n",
    "\n",
    "# this creates a model that includes inputs and outputs\n",
    "model = Model(inputs=inputs, outputs=preds)\n",
    "\n",
    "model.compile(loss='categorical_crossentropy',\n",
    "              optimizer='adam',\n",
    "              metrics=['acc'])\n",
    "\n",
    "model.summary()\n"
   ]
  },
  {
   "cell_type": "markdown",
   "metadata": {},
   "source": [
    "## Training model"
   ]
  },
  {
   "cell_type": "code",
   "execution_count": 10,
   "metadata": {},
   "outputs": [
    {
     "name": "stdout",
     "output_type": "stream",
     "text": [
      "Train on 231 samples, validate on 77 samples\n",
      "Epoch 1/15\n",
      "231/231 [==============================] - 0s 855us/step - loss: 1.7314 - acc: 0.2857 - val_loss: 1.3345 - val_acc: 0.4805\n",
      "Epoch 2/15\n",
      "231/231 [==============================] - 0s 311us/step - loss: 1.0725 - acc: 0.6061 - val_loss: 0.8620 - val_acc: 0.7532\n",
      "Epoch 3/15\n",
      "231/231 [==============================] - 0s 350us/step - loss: 0.6550 - acc: 0.8139 - val_loss: 0.6337 - val_acc: 0.8442\n",
      "Epoch 4/15\n",
      "231/231 [==============================] - 0s 350us/step - loss: 0.4516 - acc: 0.9004 - val_loss: 0.5363 - val_acc: 0.8701\n",
      "Epoch 5/15\n",
      "231/231 [==============================] - 0s 311us/step - loss: 0.3524 - acc: 0.9221 - val_loss: 0.4742 - val_acc: 0.9091\n",
      "Epoch 6/15\n",
      "231/231 [==============================] - 0s 298us/step - loss: 0.2913 - acc: 0.9351 - val_loss: 0.4403 - val_acc: 0.9091\n",
      "Epoch 7/15\n",
      "231/231 [==============================] - 0s 307us/step - loss: 0.2229 - acc: 0.9740 - val_loss: 0.4118 - val_acc: 0.9091\n",
      "Epoch 8/15\n",
      "231/231 [==============================] - 0s 354us/step - loss: 0.2033 - acc: 0.9870 - val_loss: 0.3898 - val_acc: 0.8961\n",
      "Epoch 9/15\n",
      "231/231 [==============================] - 0s 350us/step - loss: 0.1667 - acc: 0.9827 - val_loss: 0.3727 - val_acc: 0.8961\n",
      "Epoch 10/15\n",
      "231/231 [==============================] - 0s 324us/step - loss: 0.1507 - acc: 0.9870 - val_loss: 0.3586 - val_acc: 0.8831\n",
      "Epoch 11/15\n",
      "231/231 [==============================] - 0s 311us/step - loss: 0.1307 - acc: 0.9870 - val_loss: 0.3479 - val_acc: 0.8831\n",
      "Epoch 12/15\n",
      "231/231 [==============================] - 0s 302us/step - loss: 0.1158 - acc: 0.9957 - val_loss: 0.3425 - val_acc: 0.8831\n",
      "Epoch 13/15\n",
      "231/231 [==============================] - 0s 307us/step - loss: 0.1061 - acc: 0.9913 - val_loss: 0.3370 - val_acc: 0.8961\n",
      "Epoch 14/15\n",
      "231/231 [==============================] - 0s 311us/step - loss: 0.0972 - acc: 0.9913 - val_loss: 0.3330 - val_acc: 0.8961\n",
      "Epoch 15/15\n",
      "231/231 [==============================] - 0s 307us/step - loss: 0.0850 - acc: 0.9913 - val_loss: 0.3292 - val_acc: 0.8961\n"
     ]
    },
    {
     "data": {
      "image/png": "[encoded data removed]",
      "text/plain": [
       "<Figure size 432x288 with 1 Axes>"
      ]
     },
     "metadata": {
      "needs_background": "light"
     },
     "output_type": "display_data"
    },
    {
     "data": {
      "image/png": "[encoded data removed]",
      "text/plain": [
       "<Figure size 432x288 with 1 Axes>"
      ]
     },
     "metadata": {
      "needs_background": "light"
     },
     "output_type": "display_data"
    }
   ],
   "source": [
    "history = model.fit(x_train, y_train,\n",
    "          batch_size=64,\n",
    "          epochs=15,\n",
    "          validation_data=(x_val, y_val))\n",
    "\n",
    "# summarize history for accuracy\n",
    "plt.plot(history.history['acc'])\n",
    "plt.plot(history.history['val_acc'])\n",
    "plt.title('model accuracy')\n",
    "plt.ylabel('accuracy')\n",
    "plt.xlabel('epoch')\n",
    "plt.legend(['train', 'validation'], loc='lower right')\n",
    "plt.show()\n",
    "# summarize history for loss\n",
    "plt.plot(history.history['loss'])\n",
    "plt.plot(history.history['val_loss'])\n",
    "plt.title('model loss')\n",
    "plt.ylabel('loss')\n",
    "plt.xlabel('epoch')\n",
    "plt.legend(['train', 'validation'], loc='upper right')\n",
    "plt.show()"
   ]
  },
  {
   "cell_type": "markdown",
   "metadata": {},
   "source": [
    "## Testing predictions manually"
   ]
  },
  {
   "cell_type": "code",
   "execution_count": 11,
   "metadata": {},
   "outputs": [
    {
     "name": "stdout",
     "output_type": "stream",
     "text": [
      "Type the input sentence\n",
      "gostaria de saber sobre um documento\n",
      "\n",
      "input: gostaria de saber sobre um documento\n",
      "keywords: ['gostaria', 'saber', 'sobre', 'documento']\n",
      "intent: documentacao\n",
      "confidence: 86.56%\n"
     ]
    }
   ],
   "source": [
    "print(\"Type the input sentence\")\n",
    "text_input = input().lower()\n",
    "\n",
    "keywords = tokenize.word_tokenize(text_input, language=\"portuguese\")\n",
    "keywords = [word for word in keywords if word not in stopwords]\n",
    "\n",
    "## Processing text to be compatible with model input\n",
    "test_sequences = tokenizer.texts_to_sequences([keywords])\n",
    "# print(test_sequences)\n",
    "test_input = pad_sequences(test_sequences, maxlen=MAX_SEQUENCE_LENGTH)\n",
    "# print(test_input)\n",
    "\n",
    "## Get prediction\n",
    "test_prediction = model.predict(test_input)\n",
    "# print(test_prediction)\n",
    "index_ = test_prediction.argmax(axis=-1)[0] # get index of biggest value\n",
    "# print(index_)\n",
    "\n",
    "print()\n",
    "print(\"input:\", text_input)\n",
    "print(\"keywords:\", keywords)\n",
    "print(\"intent:\", list(label_dict.keys())[index_])\n",
    "print(\"confidence: %.2f%%\" % (float(test_prediction[0][index_])*100))"
   ]
  },
  {
   "cell_type": "markdown",
   "metadata": {},
   "source": [
    "# Notes\n",
    "\n",
    "## Pre-processing data\n",
    "\n",
    "\n",
    "The stopwords (o, a, os, as, para, com, ...) from the dataset and the user input were removed.\n",
    "\n",
    "The dataset provided has many incorrect words. This way, some of them does not match with the words from the pre-trained weights (GLOVE) used in the model.\n",
    "\n",
    "So, cleaning and correcting the words in the dataset (and the user input), should improve the accuracy.\n",
    "\n",
    "For this, I tried to use RSLPStemmer (nltk) module in portuguese to stem words (remove sufixes).\n",
    "\n",
    "e.g: the boy's cars are different colors -> the boy car be differ color\n",
    "\n",
    "However the portuguese version of nltk is not working properly:\n",
    "\n",
    "e.g: paisagem -> pais, \n",
    "\n",
    "making the results even worse.\n",
    "\n",
    "\n",
    "## Model\n",
    "\n",
    "The model I have chosen(CNN) uses the bag-of-words paradigm. It is described in this article: https://arxiv.org/abs/1408.5882\n",
    "\n",
    "I tested the model with both Word2Vec and GLOVE embedding vectors (pre-trained vectors for common words), which can be found in portuguese here:\n",
    "\n",
    "http://nilc.icmc.usp.br/nilc/index.php/repositorio-de-word-embeddings-do-nilc\n",
    "\n",
    "Word2Vec reached a maximum of 81% val_acc while GLOVE reached 90%.\n",
    "\n",
    "\n",
    "The model was implemented here:https://github.com/ajinkyaT/CNN_Intent_Classification\n",
    "\n",
    "The author got 99% accuracy using a dataset of 10000 sentences and 6 intentions, while mine has only 300 sentences. This should explain most part the divergence between my result (90%) and his (99%). Also, he used an official dataset which should be clean and free of incorrect words, and the GLOVE embedding is probably better trained in english.\n",
    "\n",
    "I also tried different values for the hyperparameters (batch size, number of filters, drop rate)\n",
    "\n"
   ]
  }
 ],
 "metadata": {
  "colab": {
   "collapsed_sections": [],
   "name": "nlp-test.ipynb",
   "provenance": []
  },
  "kernelspec": {
   "display_name": "Python 3",
   "language": "python",
   "name": "python3"
  },
  "language_info": {
   "codemirror_mode": {
    "name": "ipython",
    "version": 3
   },
   "file_extension": ".py",
   "mimetype": "text/x-python",
   "name": "python",
   "nbconvert_exporter": "python",
   "pygments_lexer": "ipython3",
   "version": "3.6.2"
  }
 },
 "nbformat": 4,
 "nbformat_minor": 1
}
